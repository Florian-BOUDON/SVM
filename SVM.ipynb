{
 "cells": [
  {
   "cell_type": "markdown",
   "metadata": {},
   "source": [
    "# Support Vector Machine"
   ]
  },
  {
   "cell_type": "code",
   "execution_count": 1,
   "metadata": {},
   "outputs": [],
   "source": [
    "import pandas as pd\n",
    "from sklearn.model_selection import train_test_split\n",
    "from sklearn import metrics"
   ]
  },
  {
   "cell_type": "code",
   "execution_count": 2,
   "metadata": {},
   "outputs": [],
   "source": [
    "def calculate_accuracy(classifier, X_train, X_test, y_train, y_test):\n",
    "    classifier.fit(X_train, y_train)\n",
    "    y_pred_train = classifier.predict(X_train)\n",
    "    y_pred_test = classifier.predict(X_test)\n",
    "    accuracy_train = metrics.accuracy_score(y_train, y_pred_train)\n",
    "    accuracy_test = metrics.accuracy_score(y_test, y_pred_test)\n",
    "    print('Train accuracy:', '{:.3f}'.format(accuracy_train), 'Test accuracy:', '{:.3f}'.format(accuracy_test))\n",
    "    return accuracy_train, accuracy_test, classifier"
   ]
  },
  {
   "cell_type": "code",
   "execution_count": 4,
   "metadata": {
    "collapsed": true,
    "jupyter": {
     "outputs_hidden": true
    }
   },
   "outputs": [
    {
     "data": {
      "text/html": [
       "<div>\n",
       "<style scoped>\n",
       "    .dataframe tbody tr th:only-of-type {\n",
       "        vertical-align: middle;\n",
       "    }\n",
       "\n",
       "    .dataframe tbody tr th {\n",
       "        vertical-align: top;\n",
       "    }\n",
       "\n",
       "    .dataframe thead th {\n",
       "        text-align: right;\n",
       "    }\n",
       "</style>\n",
       "<table border=\"1\" class=\"dataframe\">\n",
       "  <thead>\n",
       "    <tr style=\"text-align: right;\">\n",
       "      <th></th>\n",
       "      <th>ADH1C</th>\n",
       "      <th>DHRS11</th>\n",
       "      <th>UGP2</th>\n",
       "      <th>SLC7A5</th>\n",
       "      <th>CTSS</th>\n",
       "      <th>DAO</th>\n",
       "      <th>NIBAN1</th>\n",
       "      <th>PRUNE2</th>\n",
       "      <th>FOXF2</th>\n",
       "      <th>TENT5C</th>\n",
       "      <th>...</th>\n",
       "      <th>BSPRY</th>\n",
       "      <th>CDHR2</th>\n",
       "      <th>ERRFI1</th>\n",
       "      <th>CLIC5</th>\n",
       "      <th>PLLP</th>\n",
       "      <th>GAL</th>\n",
       "      <th>CRYL1</th>\n",
       "      <th>YBX2</th>\n",
       "      <th>ANGPTL4</th>\n",
       "      <th>tissue_status</th>\n",
       "    </tr>\n",
       "    <tr>\n",
       "      <th>id_sample</th>\n",
       "      <th></th>\n",
       "      <th></th>\n",
       "      <th></th>\n",
       "      <th></th>\n",
       "      <th></th>\n",
       "      <th></th>\n",
       "      <th></th>\n",
       "      <th></th>\n",
       "      <th></th>\n",
       "      <th></th>\n",
       "      <th></th>\n",
       "      <th></th>\n",
       "      <th></th>\n",
       "      <th></th>\n",
       "      <th></th>\n",
       "      <th></th>\n",
       "      <th></th>\n",
       "      <th></th>\n",
       "      <th></th>\n",
       "      <th></th>\n",
       "      <th></th>\n",
       "    </tr>\n",
       "  </thead>\n",
       "  <tbody>\n",
       "    <tr>\n",
       "      <th>EPSM-COLON-0001</th>\n",
       "      <td>9.199944</td>\n",
       "      <td>6.090054</td>\n",
       "      <td>7.062512</td>\n",
       "      <td>3.864253</td>\n",
       "      <td>7.869368</td>\n",
       "      <td>8.465133</td>\n",
       "      <td>1.174665</td>\n",
       "      <td>0.975086</td>\n",
       "      <td>3.028995</td>\n",
       "      <td>6.350919</td>\n",
       "      <td>...</td>\n",
       "      <td>5.528371</td>\n",
       "      <td>3.500730</td>\n",
       "      <td>2.893760</td>\n",
       "      <td>5.130743</td>\n",
       "      <td>1.485110</td>\n",
       "      <td>1.830484</td>\n",
       "      <td>6.379933</td>\n",
       "      <td>3.919293</td>\n",
       "      <td>3.031413</td>\n",
       "      <td>normal</td>\n",
       "    </tr>\n",
       "    <tr>\n",
       "      <th>EPSM-COLON-0002</th>\n",
       "      <td>7.767618</td>\n",
       "      <td>6.027985</td>\n",
       "      <td>6.318818</td>\n",
       "      <td>3.069581</td>\n",
       "      <td>6.410334</td>\n",
       "      <td>8.159814</td>\n",
       "      <td>5.959414</td>\n",
       "      <td>1.625518</td>\n",
       "      <td>2.984629</td>\n",
       "      <td>4.686086</td>\n",
       "      <td>...</td>\n",
       "      <td>5.671788</td>\n",
       "      <td>4.658790</td>\n",
       "      <td>4.715374</td>\n",
       "      <td>5.438104</td>\n",
       "      <td>2.131466</td>\n",
       "      <td>2.097157</td>\n",
       "      <td>6.863173</td>\n",
       "      <td>0.322829</td>\n",
       "      <td>3.978531</td>\n",
       "      <td>normal</td>\n",
       "    </tr>\n",
       "    <tr>\n",
       "      <th>EPSM-COLON-0003</th>\n",
       "      <td>7.918904</td>\n",
       "      <td>5.885948</td>\n",
       "      <td>6.917742</td>\n",
       "      <td>3.188257</td>\n",
       "      <td>7.915549</td>\n",
       "      <td>8.004194</td>\n",
       "      <td>1.560386</td>\n",
       "      <td>2.379909</td>\n",
       "      <td>2.929762</td>\n",
       "      <td>4.281126</td>\n",
       "      <td>...</td>\n",
       "      <td>4.596079</td>\n",
       "      <td>5.649376</td>\n",
       "      <td>4.047899</td>\n",
       "      <td>6.580938</td>\n",
       "      <td>1.447209</td>\n",
       "      <td>3.890943</td>\n",
       "      <td>6.209704</td>\n",
       "      <td>3.274407</td>\n",
       "      <td>3.714491</td>\n",
       "      <td>normal</td>\n",
       "    </tr>\n",
       "    <tr>\n",
       "      <th>EPSM-COLON-0004</th>\n",
       "      <td>9.053553</td>\n",
       "      <td>6.027985</td>\n",
       "      <td>7.081085</td>\n",
       "      <td>2.357523</td>\n",
       "      <td>5.657726</td>\n",
       "      <td>8.004194</td>\n",
       "      <td>3.548988</td>\n",
       "      <td>3.260031</td>\n",
       "      <td>3.313829</td>\n",
       "      <td>4.821072</td>\n",
       "      <td>...</td>\n",
       "      <td>4.135061</td>\n",
       "      <td>5.437107</td>\n",
       "      <td>4.537381</td>\n",
       "      <td>4.615263</td>\n",
       "      <td>1.004454</td>\n",
       "      <td>1.840902</td>\n",
       "      <td>6.774063</td>\n",
       "      <td>3.320525</td>\n",
       "      <td>3.080796</td>\n",
       "      <td>normal</td>\n",
       "    </tr>\n",
       "    <tr>\n",
       "      <th>EPSM-COLON-0005</th>\n",
       "      <td>6.027822</td>\n",
       "      <td>5.791257</td>\n",
       "      <td>5.937685</td>\n",
       "      <td>4.137667</td>\n",
       "      <td>5.818999</td>\n",
       "      <td>8.056067</td>\n",
       "      <td>3.307945</td>\n",
       "      <td>5.208874</td>\n",
       "      <td>4.191695</td>\n",
       "      <td>5.181036</td>\n",
       "      <td>...</td>\n",
       "      <td>3.674043</td>\n",
       "      <td>6.286182</td>\n",
       "      <td>4.715374</td>\n",
       "      <td>4.432410</td>\n",
       "      <td>0.159195</td>\n",
       "      <td>3.506561</td>\n",
       "      <td>6.150297</td>\n",
       "      <td>0.461184</td>\n",
       "      <td>5.140305</td>\n",
       "      <td>normal</td>\n",
       "    </tr>\n",
       "    <tr>\n",
       "      <th>...</th>\n",
       "      <td>...</td>\n",
       "      <td>...</td>\n",
       "      <td>...</td>\n",
       "      <td>...</td>\n",
       "      <td>...</td>\n",
       "      <td>...</td>\n",
       "      <td>...</td>\n",
       "      <td>...</td>\n",
       "      <td>...</td>\n",
       "      <td>...</td>\n",
       "      <td>...</td>\n",
       "      <td>...</td>\n",
       "      <td>...</td>\n",
       "      <td>...</td>\n",
       "      <td>...</td>\n",
       "      <td>...</td>\n",
       "      <td>...</td>\n",
       "      <td>...</td>\n",
       "      <td>...</td>\n",
       "      <td>...</td>\n",
       "      <td>...</td>\n",
       "    </tr>\n",
       "    <tr>\n",
       "      <th>EPSM-COLON-0800</th>\n",
       "      <td>6.019963</td>\n",
       "      <td>3.089364</td>\n",
       "      <td>4.393486</td>\n",
       "      <td>5.947781</td>\n",
       "      <td>7.124598</td>\n",
       "      <td>6.476207</td>\n",
       "      <td>3.511464</td>\n",
       "      <td>3.360521</td>\n",
       "      <td>2.954865</td>\n",
       "      <td>1.708999</td>\n",
       "      <td>...</td>\n",
       "      <td>4.643061</td>\n",
       "      <td>4.632634</td>\n",
       "      <td>4.670141</td>\n",
       "      <td>4.571678</td>\n",
       "      <td>2.864645</td>\n",
       "      <td>2.336317</td>\n",
       "      <td>6.923562</td>\n",
       "      <td>2.710594</td>\n",
       "      <td>2.507989</td>\n",
       "      <td>tumoral</td>\n",
       "    </tr>\n",
       "    <tr>\n",
       "      <th>EPSM-COLON-0801</th>\n",
       "      <td>3.691606</td>\n",
       "      <td>2.118165</td>\n",
       "      <td>4.794787</td>\n",
       "      <td>4.746829</td>\n",
       "      <td>5.493405</td>\n",
       "      <td>5.127365</td>\n",
       "      <td>3.516129</td>\n",
       "      <td>1.701237</td>\n",
       "      <td>2.771962</td>\n",
       "      <td>2.215480</td>\n",
       "      <td>...</td>\n",
       "      <td>4.695878</td>\n",
       "      <td>1.800088</td>\n",
       "      <td>7.647285</td>\n",
       "      <td>1.340236</td>\n",
       "      <td>3.063140</td>\n",
       "      <td>3.410137</td>\n",
       "      <td>3.856952</td>\n",
       "      <td>1.491817</td>\n",
       "      <td>6.493643</td>\n",
       "      <td>tumoral</td>\n",
       "    </tr>\n",
       "    <tr>\n",
       "      <th>EPSM-COLON-0802</th>\n",
       "      <td>3.035242</td>\n",
       "      <td>2.495383</td>\n",
       "      <td>4.438451</td>\n",
       "      <td>5.916828</td>\n",
       "      <td>7.155135</td>\n",
       "      <td>5.556266</td>\n",
       "      <td>1.192243</td>\n",
       "      <td>1.169104</td>\n",
       "      <td>1.038835</td>\n",
       "      <td>2.833854</td>\n",
       "      <td>...</td>\n",
       "      <td>4.886197</td>\n",
       "      <td>3.624820</td>\n",
       "      <td>3.912746</td>\n",
       "      <td>2.806374</td>\n",
       "      <td>3.170815</td>\n",
       "      <td>0.775487</td>\n",
       "      <td>4.952383</td>\n",
       "      <td>1.960087</td>\n",
       "      <td>2.809510</td>\n",
       "      <td>tumoral</td>\n",
       "    </tr>\n",
       "    <tr>\n",
       "      <th>EPSM-COLON-0803</th>\n",
       "      <td>3.021057</td>\n",
       "      <td>3.581193</td>\n",
       "      <td>4.822947</td>\n",
       "      <td>5.694946</td>\n",
       "      <td>6.789079</td>\n",
       "      <td>6.570513</td>\n",
       "      <td>1.404105</td>\n",
       "      <td>3.390414</td>\n",
       "      <td>2.653714</td>\n",
       "      <td>3.190606</td>\n",
       "      <td>...</td>\n",
       "      <td>4.980576</td>\n",
       "      <td>4.088197</td>\n",
       "      <td>3.945064</td>\n",
       "      <td>3.426452</td>\n",
       "      <td>1.526074</td>\n",
       "      <td>4.175287</td>\n",
       "      <td>8.242634</td>\n",
       "      <td>2.225967</td>\n",
       "      <td>1.842766</td>\n",
       "      <td>tumoral</td>\n",
       "    </tr>\n",
       "    <tr>\n",
       "      <th>EPSM-COLON-0804</th>\n",
       "      <td>0.957801</td>\n",
       "      <td>1.800005</td>\n",
       "      <td>4.985909</td>\n",
       "      <td>3.844568</td>\n",
       "      <td>6.560904</td>\n",
       "      <td>2.165170</td>\n",
       "      <td>4.240985</td>\n",
       "      <td>4.674793</td>\n",
       "      <td>2.339424</td>\n",
       "      <td>2.909521</td>\n",
       "      <td>...</td>\n",
       "      <td>4.428564</td>\n",
       "      <td>1.073753</td>\n",
       "      <td>6.319233</td>\n",
       "      <td>3.803260</td>\n",
       "      <td>1.522304</td>\n",
       "      <td>1.469871</td>\n",
       "      <td>3.579904</td>\n",
       "      <td>1.549248</td>\n",
       "      <td>1.379948</td>\n",
       "      <td>tumoral</td>\n",
       "    </tr>\n",
       "  </tbody>\n",
       "</table>\n",
       "<p>804 rows × 61 columns</p>\n",
       "</div>"
      ],
      "text/plain": [
       "                    ADH1C    DHRS11      UGP2    SLC7A5      CTSS       DAO  \\\n",
       "id_sample                                                                     \n",
       "EPSM-COLON-0001  9.199944  6.090054  7.062512  3.864253  7.869368  8.465133   \n",
       "EPSM-COLON-0002  7.767618  6.027985  6.318818  3.069581  6.410334  8.159814   \n",
       "EPSM-COLON-0003  7.918904  5.885948  6.917742  3.188257  7.915549  8.004194   \n",
       "EPSM-COLON-0004  9.053553  6.027985  7.081085  2.357523  5.657726  8.004194   \n",
       "EPSM-COLON-0005  6.027822  5.791257  5.937685  4.137667  5.818999  8.056067   \n",
       "...                   ...       ...       ...       ...       ...       ...   \n",
       "EPSM-COLON-0800  6.019963  3.089364  4.393486  5.947781  7.124598  6.476207   \n",
       "EPSM-COLON-0801  3.691606  2.118165  4.794787  4.746829  5.493405  5.127365   \n",
       "EPSM-COLON-0802  3.035242  2.495383  4.438451  5.916828  7.155135  5.556266   \n",
       "EPSM-COLON-0803  3.021057  3.581193  4.822947  5.694946  6.789079  6.570513   \n",
       "EPSM-COLON-0804  0.957801  1.800005  4.985909  3.844568  6.560904  2.165170   \n",
       "\n",
       "                   NIBAN1    PRUNE2     FOXF2    TENT5C  ...     BSPRY  \\\n",
       "id_sample                                                ...             \n",
       "EPSM-COLON-0001  1.174665  0.975086  3.028995  6.350919  ...  5.528371   \n",
       "EPSM-COLON-0002  5.959414  1.625518  2.984629  4.686086  ...  5.671788   \n",
       "EPSM-COLON-0003  1.560386  2.379909  2.929762  4.281126  ...  4.596079   \n",
       "EPSM-COLON-0004  3.548988  3.260031  3.313829  4.821072  ...  4.135061   \n",
       "EPSM-COLON-0005  3.307945  5.208874  4.191695  5.181036  ...  3.674043   \n",
       "...                   ...       ...       ...       ...  ...       ...   \n",
       "EPSM-COLON-0800  3.511464  3.360521  2.954865  1.708999  ...  4.643061   \n",
       "EPSM-COLON-0801  3.516129  1.701237  2.771962  2.215480  ...  4.695878   \n",
       "EPSM-COLON-0802  1.192243  1.169104  1.038835  2.833854  ...  4.886197   \n",
       "EPSM-COLON-0803  1.404105  3.390414  2.653714  3.190606  ...  4.980576   \n",
       "EPSM-COLON-0804  4.240985  4.674793  2.339424  2.909521  ...  4.428564   \n",
       "\n",
       "                    CDHR2    ERRFI1     CLIC5      PLLP       GAL     CRYL1  \\\n",
       "id_sample                                                                     \n",
       "EPSM-COLON-0001  3.500730  2.893760  5.130743  1.485110  1.830484  6.379933   \n",
       "EPSM-COLON-0002  4.658790  4.715374  5.438104  2.131466  2.097157  6.863173   \n",
       "EPSM-COLON-0003  5.649376  4.047899  6.580938  1.447209  3.890943  6.209704   \n",
       "EPSM-COLON-0004  5.437107  4.537381  4.615263  1.004454  1.840902  6.774063   \n",
       "EPSM-COLON-0005  6.286182  4.715374  4.432410  0.159195  3.506561  6.150297   \n",
       "...                   ...       ...       ...       ...       ...       ...   \n",
       "EPSM-COLON-0800  4.632634  4.670141  4.571678  2.864645  2.336317  6.923562   \n",
       "EPSM-COLON-0801  1.800088  7.647285  1.340236  3.063140  3.410137  3.856952   \n",
       "EPSM-COLON-0802  3.624820  3.912746  2.806374  3.170815  0.775487  4.952383   \n",
       "EPSM-COLON-0803  4.088197  3.945064  3.426452  1.526074  4.175287  8.242634   \n",
       "EPSM-COLON-0804  1.073753  6.319233  3.803260  1.522304  1.469871  3.579904   \n",
       "\n",
       "                     YBX2   ANGPTL4  tissue_status  \n",
       "id_sample                                           \n",
       "EPSM-COLON-0001  3.919293  3.031413         normal  \n",
       "EPSM-COLON-0002  0.322829  3.978531         normal  \n",
       "EPSM-COLON-0003  3.274407  3.714491         normal  \n",
       "EPSM-COLON-0004  3.320525  3.080796         normal  \n",
       "EPSM-COLON-0005  0.461184  5.140305         normal  \n",
       "...                   ...       ...            ...  \n",
       "EPSM-COLON-0800  2.710594  2.507989        tumoral  \n",
       "EPSM-COLON-0801  1.491817  6.493643        tumoral  \n",
       "EPSM-COLON-0802  1.960087  2.809510        tumoral  \n",
       "EPSM-COLON-0803  2.225967  1.842766        tumoral  \n",
       "EPSM-COLON-0804  1.549248  1.379948        tumoral  \n",
       "\n",
       "[804 rows x 61 columns]"
      ]
     },
     "execution_count": 4,
     "metadata": {},
     "output_type": "execute_result"
    }
   ],
   "source": [
    "df = pd.read_csv(\"colon_cancer.csv\",sep=\";\",index_col=\"id_sample\")\n",
    "df"
   ]
  },
  {
   "cell_type": "code",
   "execution_count": 5,
   "metadata": {},
   "outputs": [],
   "source": [
    "random_state = 42"
   ]
  },
  {
   "cell_type": "code",
   "execution_count": 6,
   "metadata": {},
   "outputs": [],
   "source": [
    "X = df.drop(columns=[\"tissue_status\"])\n",
    "Y = df[\"tissue_status\"]"
   ]
  },
  {
   "cell_type": "code",
   "execution_count": 9,
   "metadata": {},
   "outputs": [
    {
     "name": "stdout",
     "output_type": "stream",
     "text": [
      "Train :  (603, 60) Test :  (201, 60)\n"
     ]
    }
   ],
   "source": [
    "X_train, X_test, y_train, y_test = train_test_split(X, Y, test_size=0.25, random_state = random_state, stratify = Y)\n",
    "print(\"Train : \", X_train.shape,\"Test : \", X_test.shape)"
   ]
  },
  {
   "cell_type": "markdown",
   "metadata": {},
   "source": [
    "## Normalisation des données"
   ]
  },
  {
   "cell_type": "markdown",
   "metadata": {},
   "source": [
    "> Pour faciliter la convergence des algorithmes de machine learning, il est fortement conseillé de normaliser les données. Une approche standard est la normalisation centrées-réduite.     \n",
    "\n",
    ">**Attention !** Le calcul de la moyenne $\\mu$ et l'écart type $\\sigma$ doit être réalisé **uniquement sur le dataset d'entrainement**. Le dataset de test  doit  être normalisé en utilisant les valeurs $\\mu$ et $\\sigma$ calculées sur le dataset d'entrainement.\n",
    "\n",
    ">La librairie **scikit-Learn** contient un certain nombre de *scalers* qui permettent de réaliser facilement cette normalisation. Ainsi le scaler `StandardScaler`permet de centrer-réduire les données."
   ]
  },
  {
   "cell_type": "code",
   "execution_count": 14,
   "metadata": {
    "collapsed": true,
    "jupyter": {
     "outputs_hidden": true
    }
   },
   "outputs": [
    {
     "name": "stdout",
     "output_type": "stream",
     "text": [
      "mean => mu :  [5.56250784 4.37031229 5.5576452  4.5032885  6.70477296 7.20224541\n",
      " 2.73722189 2.83883913 3.09567408 3.62783178 4.9956429  8.00645284\n",
      " 2.13428824 3.25051517 5.72798593 2.602014   5.09621073 4.95027125\n",
      " 5.12856168 2.60945896 4.57087133 2.61901627 4.00316847 2.83774532\n",
      " 5.05378073 4.70302486 4.48579809 5.2552879  5.10330709 3.87416991\n",
      " 4.42493323 3.41604512 2.99677417 3.12825274 3.21237453 2.94096313\n",
      " 4.059025   2.56226458 4.03283796 2.46987601 3.61611895 3.06480367\n",
      " 4.18373897 3.33961906 4.60751801 3.22049712 4.79100352 3.19601853\n",
      " 2.16639761 5.46168857 3.59541576 4.6518569  4.25604076 4.60405964\n",
      " 4.10572903 1.79212905 2.84821267 6.10344378 2.81507307 2.61131882]\n",
      "Std sigma :  [2.87450773 1.41750502 1.16900926 1.62727559 1.08192036 1.39528512\n",
      " 1.4405307  1.25002277 1.20996386 1.2651503  0.7258847  3.02651441\n",
      " 0.6970907  0.8496204  1.10564825 1.29408208 1.25535892 2.70235274\n",
      " 0.83604128 1.45557859 1.36504482 0.89653108 0.89616633 0.74177497\n",
      " 0.76354578 1.08303667 0.89196864 1.07683176 1.1278559  0.959783\n",
      " 0.94799683 0.95342434 0.95399801 1.05874883 0.91663639 0.79398048\n",
      " 0.86882235 0.95497763 0.74386269 0.79827373 0.58288541 1.14404363\n",
      " 0.75023715 0.78168341 1.51741848 0.91180632 1.10693458 1.12902104\n",
      " 0.83743434 1.17059202 1.06519408 0.93742726 1.65998753 0.86348611\n",
      " 1.26049718 0.70875365 1.33154111 0.84309529 1.02498105 0.99669006]\n"
     ]
    }
   ],
   "source": [
    "from sklearn.preprocessing import StandardScaler\n",
    "\n",
    "# Création d'un scaler\n",
    "scaler = StandardScaler()\n",
    "\n",
    "# Calcul de mu et sigma sur X_train\n",
    "scaler.fit(X_train)\n",
    "\n",
    "# Affichage des résultats moyenne et écart type de chaque variable\n",
    "print(\"mean => mu : \",scaler.mean_,) \n",
    "print(\"Std sigma : \", scaler.scale_)"
   ]
  },
  {
   "cell_type": "markdown",
   "metadata": {},
   "source": [
    "> Appliquer les valeurs $\\mu$ et $\\sigma$ calculées pour X_train aux deux dataset, pour cela il faut utiliser la méthode `transform` du scaler"
   ]
  },
  {
   "cell_type": "code",
   "execution_count": 19,
   "metadata": {},
   "outputs": [],
   "source": [
    "X_train_scaled = scaler.transform(X_train)\n",
    "X_train_scaled = pd.DataFrame(X_train_scaled, index = X_train.index, columns = X_train.columns)\n",
    "\n",
    "X_test_scaled = scaler.transform(X_test)\n",
    "X_test_scaled = pd.DataFrame(X_test_scaled, index = X_test.index, columns = X_test.columns)"
   ]
  },
  {
   "cell_type": "markdown",
   "metadata": {},
   "source": [
    "#### Vérification\n",
    ">les valeurs sont centrées et réduites"
   ]
  },
  {
   "cell_type": "code",
   "execution_count": 22,
   "metadata": {},
   "outputs": [
    {
     "name": "stdout",
     "output_type": "stream",
     "text": [
      "moy ADH1C     6.812314e-17\n",
      "DHRS11   -1.697555e-16\n",
      "UGP2     -7.202641e-16\n",
      "SLC7A5   -1.417698e-16\n",
      "CTSS      5.910142e-17\n",
      "dtype: float64 std ADH1C     1.00083\n",
      "DHRS11    1.00083\n",
      "UGP2      1.00083\n",
      "SLC7A5    1.00083\n",
      "CTSS      1.00083\n",
      "dtype: float64\n"
     ]
    }
   ],
   "source": [
    "print(\"moy\", X_train_scaled.mean().head() , \"std\",X_train_scaled.std().head())"
   ]
  },
  {
   "cell_type": "markdown",
   "metadata": {},
   "source": [
    "## Modèle de régression logistique\n",
    ">La **régression logistique** utilise une fonction analytique, appelée fonction **logistique** ou fonction **sigmoïde**, qui a une forme caractéristique en S. En optimisant les coéfficiant de cette courbe (max de vraisemblance ou min de cross-entropie), elle permet d'estimer la probabilité pour un échantillon d'appartenir à telle ou telle classe. Par exemple, *tumoral* versus *normal*."
   ]
  },
  {
   "cell_type": "markdown",
   "metadata": {},
   "source": [
    "<img src=\"logistic_regression.png\" alt=\"Logistic regression\" width=\"600\" aling=\"center\">"
   ]
  },
  {
   "cell_type": "code",
   "execution_count": 89,
   "metadata": {},
   "outputs": [
    {
     "name": "stdout",
     "output_type": "stream",
     "text": [
      "Train accuracy: 1.000 Test accuracy: 1.000\n"
     ]
    }
   ],
   "source": [
    "from sklearn.linear_model import LogisticRegression\n",
    "\n",
    "classifier = LogisticRegression(random_state = random_state, penalty='none')\n",
    "accuracy_train , accuracy_test , trained_classifier = calculate_accuracy(classifier,X_train_scaled,\n",
    "                                                                         X_test_scaled, y_train, y_test)"
   ]
  },
  {
   "cell_type": "code",
   "execution_count": 90,
   "metadata": {},
   "outputs": [
    {
     "data": {
      "text/plain": [
       "<sklearn.metrics._plot.confusion_matrix.ConfusionMatrixDisplay at 0x1be94ff46a0>"
      ]
     },
     "execution_count": 90,
     "metadata": {},
     "output_type": "execute_result"
    },
    {
     "data": {
      "image/png": "[encoded data removed]",
      "text/plain": [
       "<Figure size 432x288 with 2 Axes>"
      ]
     },
     "metadata": {
      "needs_background": "light"
     },
     "output_type": "display_data"
    }
   ],
   "source": [
    "metrics.plot_confusion_matrix(trained_classifier,X_test_scaled ,y_test)"
   ]
  },
  {
   "cell_type": "markdown",
   "metadata": {},
   "source": [
    "## Impact de chaque gène dans le modèle Logarithme"
   ]
  },
  {
   "cell_type": "markdown",
   "metadata": {},
   "source": [
    "> Après la phase d'entrainement, il est possible de connaître les paramètres $\\beta$ du modèle obtenu. Ils sont disponibles dans l'attribut `coef_`.       \n",
    "Plus le coéfficient $\\beta$ est grand en valeur absolue, plus l'impact du gène correspondant est important dans le modèle."
   ]
  },
  {
   "cell_type": "markdown",
   "metadata": {},
   "source": [
    "**Afficher les coefficients $\\beta$ pour quelques gènes**"
   ]
  },
  {
   "cell_type": "code",
   "execution_count": 26,
   "metadata": {},
   "outputs": [
    {
     "data": {
      "text/html": [
       "<div>\n",
       "<style scoped>\n",
       "    .dataframe tbody tr th:only-of-type {\n",
       "        vertical-align: middle;\n",
       "    }\n",
       "\n",
       "    .dataframe tbody tr th {\n",
       "        vertical-align: top;\n",
       "    }\n",
       "\n",
       "    .dataframe thead th {\n",
       "        text-align: right;\n",
       "    }\n",
       "</style>\n",
       "<table border=\"1\" class=\"dataframe\">\n",
       "  <thead>\n",
       "    <tr style=\"text-align: right;\">\n",
       "      <th></th>\n",
       "      <th>beta</th>\n",
       "    </tr>\n",
       "  </thead>\n",
       "  <tbody>\n",
       "    <tr>\n",
       "      <th>ADH1C</th>\n",
       "      <td>-1.240915</td>\n",
       "    </tr>\n",
       "    <tr>\n",
       "      <th>DHRS11</th>\n",
       "      <td>-1.319721</td>\n",
       "    </tr>\n",
       "    <tr>\n",
       "      <th>UGP2</th>\n",
       "      <td>-2.119381</td>\n",
       "    </tr>\n",
       "    <tr>\n",
       "      <th>SLC7A5</th>\n",
       "      <td>4.426813</td>\n",
       "    </tr>\n",
       "    <tr>\n",
       "      <th>CTSS</th>\n",
       "      <td>-0.049513</td>\n",
       "    </tr>\n",
       "  </tbody>\n",
       "</table>\n",
       "</div>"
      ],
      "text/plain": [
       "            beta\n",
       "ADH1C  -1.240915\n",
       "DHRS11 -1.319721\n",
       "UGP2   -2.119381\n",
       "SLC7A5  4.426813\n",
       "CTSS   -0.049513"
      ]
     },
     "execution_count": 26,
     "metadata": {},
     "output_type": "execute_result"
    }
   ],
   "source": [
    "coefficients = pd.DataFrame(trained_classifier.coef_[0], index = X_train_scaled.columns, columns = ['beta'])\n",
    "coefficients.head()"
   ]
  },
  {
   "cell_type": "markdown",
   "metadata": {},
   "source": [
    "**Afficher les coefficient $\\beta$ sous forme de *barplot*, du plus petit au plus grand.**"
   ]
  },
  {
   "cell_type": "code",
   "execution_count": 27,
   "metadata": {},
   "outputs": [
    {
     "data": {
      "text/plain": [
       "<AxesSubplot:>"
      ]
     },
     "execution_count": 27,
     "metadata": {},
     "output_type": "execute_result"
    },
    {
     "data": {
      "image/png": "[encoded data removed]",
      "text/plain": [
       "<Figure size 1080x216 with 1 Axes>"
      ]
     },
     "metadata": {
      "needs_background": "light"
     },
     "output_type": "display_data"
    }
   ],
   "source": [
    "coefficients = coefficients.sort_values(by='beta')\n",
    "coefficients.plot.bar(figsize=(15,3))"
   ]
  },
  {
   "cell_type": "markdown",
   "metadata": {},
   "source": [
    "Deux gène impact fortement le modèle:\n",
    "- SLC7A\n",
    "- RNF43"
   ]
  },
  {
   "cell_type": "markdown",
   "metadata": {},
   "source": [
    "## Analyse de la corrélation entre les meilleurs prédicteurs  du modèle"
   ]
  },
  {
   "cell_type": "markdown",
   "metadata": {},
   "source": [
    "**Identifions N meilleurs gènes qui impactent le plus fortement le modèle**"
   ]
  },
  {
   "cell_type": "code",
   "execution_count": 33,
   "metadata": {},
   "outputs": [
    {
     "name": "stdout",
     "output_type": "stream",
     "text": [
      "Top features LR: ['SLC7A5', 'RNF43', 'DDIT4']\n"
     ]
    }
   ],
   "source": [
    "n_features = 3\n",
    "coefficients['abs_beta'] = coefficients['beta'].abs()\n",
    "coefficients = coefficients.sort_values(by='abs_beta', ascending = False)\n",
    "top_features = list(coefficients.head(n_features).index)\n",
    "\n",
    "print('Top features LR:', top_features)"
   ]
  },
  {
   "cell_type": "markdown",
   "metadata": {},
   "source": [
    "**Affichage d'un paiplot pour mesureer visuellement la corélation entre ces gènes**"
   ]
  },
  {
   "cell_type": "code",
   "execution_count": 74,
   "metadata": {},
   "outputs": [
    {
     "data": {
      "text/plain": [
       "<seaborn.axisgrid.PairGrid at 0x1be92467910>"
      ]
     },
     "execution_count": 74,
     "metadata": {},
     "output_type": "execute_result"
    },
    {
     "data": {
      "image/png": "[encoded data removed]",
      "text/plain": [
       "<Figure size 399x324 with 12 Axes>"
      ]
     },
     "metadata": {
      "needs_background": "light"
     },
     "output_type": "display_data"
    }
   ],
   "source": [
    "%matplotlib inline\n",
    "import seaborn as sns\n",
    "import matplotlib.pyplot as plt\n",
    "\n",
    "top_features.append('tissue_status')\n",
    "\n",
    "pal = dict(normal=\"b\", tumoral=\"red\") \n",
    "sns.pairplot(df.loc[:,top_features ], hue='tissue_status',palette=pal, height=1.5,  plot_kws={'alpha':0.1})"
   ]
  },
  {
   "cell_type": "markdown",
   "metadata": {},
   "source": [
    "## Performances du modèle logarithmique N_top_features"
   ]
  },
  {
   "cell_type": "code",
   "execution_count": 78,
   "metadata": {},
   "outputs": [
    {
     "data": {
      "text/plain": [
       "'tissue_status'"
      ]
     },
     "execution_count": 78,
     "metadata": {},
     "output_type": "execute_result"
    }
   ],
   "source": [
    "top_features.pop(3)"
   ]
  },
  {
   "cell_type": "code",
   "execution_count": 79,
   "metadata": {},
   "outputs": [
    {
     "name": "stdout",
     "output_type": "stream",
     "text": [
      "['SLC7A5']\n",
      "Train accuracy: 0.929 Test accuracy: 0.920\n",
      "['SLC7A5', 'RNF43']\n",
      "Train accuracy: 0.964 Test accuracy: 0.935\n",
      "['SLC7A5', 'RNF43', 'DDIT4']\n",
      "Train accuracy: 0.970 Test accuracy: 0.955\n"
     ]
    }
   ],
   "source": [
    "for i in range (len(top_features)):\n",
    "    selected_features = top_features[0:i+1]\n",
    "    print(selected_features)\n",
    "    accuracy_train, accuracy_test, trained_classifier = calculate_accuracy( classifier, X_train_scaled[selected_features],\n",
    "                                                                          X_test_scaled[selected_features], y_train,y_test)"
   ]
  },
  {
   "cell_type": "markdown",
   "metadata": {},
   "source": [
    "## Modèle linéaire de Support Vector Machine (SVM)"
   ]
  },
  {
   "cell_type": "markdown",
   "metadata": {},
   "source": [
    "> Un modèle SVM cherche àdéfinir une frontière entre deux ou plusieurs classes d'échantillons, en maximisant la marge entre cette frontière et les échantillons les plus proches (vecteurs de support)"
   ]
  },
  {
   "cell_type": "markdown",
   "metadata": {},
   "source": [
    "<img src=\"svm.png\" alt=\"Support Vector Machine\" width=\"600\" aling=\"center\">"
   ]
  },
  {
   "cell_type": "markdown",
   "metadata": {},
   "source": [
    "**Utilisation des données normalisées pour la création du modèle SVM**"
   ]
  },
  {
   "cell_type": "code",
   "execution_count": 81,
   "metadata": {},
   "outputs": [
    {
     "name": "stdout",
     "output_type": "stream",
     "text": [
      "Train accuracy: 1.000 Test accuracy: 1.000\n"
     ]
    },
    {
     "data": {
      "text/plain": [
       "<sklearn.metrics._plot.confusion_matrix.ConfusionMatrixDisplay at 0x1be93c73af0>"
      ]
     },
     "execution_count": 81,
     "metadata": {},
     "output_type": "execute_result"
    },
    {
     "data": {
      "image/png": "[encoded data removed]",
      "text/plain": [
       "<Figure size 432x288 with 2 Axes>"
      ]
     },
     "metadata": {
      "needs_background": "light"
     },
     "output_type": "display_data"
    }
   ],
   "source": [
    "from sklearn.svm import LinearSVC\n",
    "\n",
    "classifier = LinearSVC(random_state = random_state)\n",
    "\n",
    "accuracy_train, accuracy_test, trained_classifier = calculate_accuracy(classifier, X_train_scaled, \n",
    "                                                                       X_test_scaled, y_train, y_test)\n",
    "                                                                      \n",
    "\n",
    "metrics.plot_confusion_matrix(trained_classifier, X_test_scaled, y_test)"
   ]
  },
  {
   "cell_type": "markdown",
   "metadata": {},
   "source": [
    "## Impact de chaque gène dans le modèle SVM"
   ]
  },
  {
   "cell_type": "code",
   "execution_count": 82,
   "metadata": {},
   "outputs": [
    {
     "data": {
      "text/plain": [
       "<AxesSubplot:>"
      ]
     },
     "execution_count": 82,
     "metadata": {},
     "output_type": "execute_result"
    },
    {
     "data": {
      "image/png": "[encoded data removed]",
      "text/plain": [
       "<Figure size 1080x216 with 1 Axes>"
      ]
     },
     "metadata": {
      "needs_background": "light"
     },
     "output_type": "display_data"
    }
   ],
   "source": [
    "coeff_SVM = pd.DataFrame(trained_classifier.coef_[0], index = X_train_scaled.columns, columns = ['beta'])\n",
    "\n",
    "coeff_SVM = coeff_SVM.sort_values(by='beta')\n",
    "coeff_SVM.plot.bar(figsize = (15,3))"
   ]
  },
  {
   "cell_type": "code",
   "execution_count": 83,
   "metadata": {},
   "outputs": [
    {
     "name": "stdout",
     "output_type": "stream",
     "text": [
      "Top features SVM : ['RNF43', 'SLC7A5', 'DAO']\n"
     ]
    }
   ],
   "source": [
    "coeff_SVM['abs_beta'] = coeff_SVM['beta'].abs()\n",
    "coeff_SVM = coeff_SVM.sort_values(by='abs_beta', ascending = False)\n",
    "top_features = list(coeff_SVM.head(n_features).index)\n",
    "print('Top features SVM :',top_features)"
   ]
  },
  {
   "cell_type": "markdown",
   "metadata": {},
   "source": [
    "## Etude de cas"
   ]
  },
  {
   "cell_type": "markdown",
   "metadata": {},
   "source": [
    "> L'hôpital AIL a mis au point un nouvel outil de diagnostique basé sur les niveaux d'expression d'un panel de 3 gèness. Cet outil a donné les mesures suivantes pour un nouveau patient à l'hôpital:      \n",
    "new_patient = {'RNF43':4.68, 'SLCA5':4.10 , 'DAO':7.59}"
   ]
  },
  {
   "cell_type": "code",
   "execution_count": 86,
   "metadata": {},
   "outputs": [],
   "source": [
    "new_patient = {'RNF43':4.68, 'SLCA5':4.10 , 'DAO':7.59}"
   ]
  },
  {
   "cell_type": "code",
   "execution_count": 87,
   "metadata": {},
   "outputs": [],
   "source": [
    "X_predict = pd.DataFrame([new_patient], index = ['new_patient'])"
   ]
  },
  {
   "cell_type": "code",
   "execution_count": 88,
   "metadata": {},
   "outputs": [
    {
     "data": {
      "text/html": [
       "<div>\n",
       "<style scoped>\n",
       "    .dataframe tbody tr th:only-of-type {\n",
       "        vertical-align: middle;\n",
       "    }\n",
       "\n",
       "    .dataframe tbody tr th {\n",
       "        vertical-align: top;\n",
       "    }\n",
       "\n",
       "    .dataframe thead th {\n",
       "        text-align: right;\n",
       "    }\n",
       "</style>\n",
       "<table border=\"1\" class=\"dataframe\">\n",
       "  <thead>\n",
       "    <tr style=\"text-align: right;\">\n",
       "      <th></th>\n",
       "      <th>RNF43</th>\n",
       "      <th>SLCA5</th>\n",
       "      <th>DAO</th>\n",
       "    </tr>\n",
       "  </thead>\n",
       "  <tbody>\n",
       "    <tr>\n",
       "      <th>new_patient</th>\n",
       "      <td>4.68</td>\n",
       "      <td>4.1</td>\n",
       "      <td>7.59</td>\n",
       "    </tr>\n",
       "  </tbody>\n",
       "</table>\n",
       "</div>"
      ],
      "text/plain": [
       "             RNF43  SLCA5   DAO\n",
       "new_patient   4.68    4.1  7.59"
      ]
     },
     "execution_count": 88,
     "metadata": {},
     "output_type": "execute_result"
    }
   ],
   "source": [
    "X_predict"
   ]
  },
  {
   "cell_type": "code",
   "execution_count": null,
   "metadata": {},
   "outputs": [],
   "source": []
  },
  {
   "cell_type": "markdown",
   "metadata": {},
   "source": [
    "#### Ref : Standardisation\n",
    "https://scikit-learn.org/stable/modules/preprocessing.html#standardization-or-mean-removal-and-variance-scaling\n",
    "\n"
   ]
  }
 ],
 "metadata": {
  "kernelspec": {
   "display_name": "Python 3 (ipykernel)",
   "language": "python",
   "name": "python3"
  },
  "language_info": {
   "codemirror_mode": {
    "name": "ipython",
    "version": 3
   },
   "file_extension": ".py",
   "mimetype": "text/x-python",
   "name": "python",
   "nbconvert_exporter": "python",
   "pygments_lexer": "ipython3",
   "version": "3.10.9"
  }
 },
 "nbformat": 4,
 "nbformat_minor": 4
}
